{
 "cells": [
  {
   "cell_type": "code",
   "execution_count": 1,
   "source": [
    "import torch\n",
    "import matplotlib.pyplot as plt"
   ],
   "outputs": [],
   "metadata": {}
  },
  {
   "cell_type": "code",
   "execution_count": 2,
   "source": [
    "from transformers import BertTokenizer, get_linear_schedule_with_warmup, BertConfig, BertForMaskedLM\n",
    "model_path = 'dmis-lab/biobert-base-cased-v1.2'\n",
    "tokenizer = BertTokenizer.from_pretrained(model_path)\n",
    "bert_lm = BertForMaskedLM.from_pretrained(model_path)\n",
    "bert_lm.to('cuda:5')"
   ],
   "outputs": [],
   "metadata": {}
  },
  {
   "cell_type": "code",
   "execution_count": null,
   "source": [
    "from torch.utils.data import TensorDataset, DataLoader\n",
    "import copy\n",
    "state_dict_bak = copy.deepcopy(bert_lm.state_dict())"
   ],
   "outputs": [],
   "metadata": {}
  },
  {
   "cell_type": "code",
   "execution_count": null,
   "source": [
    "bert_lm.load_state_dict(state_dict_bak)"
   ],
   "outputs": [
    {
     "output_type": "execute_result",
     "data": {
      "text/plain": [
       "<All keys matched successfully>"
      ]
     },
     "metadata": {},
     "execution_count": 4
    }
   ],
   "metadata": {}
  },
  {
   "cell_type": "code",
   "execution_count": null,
   "source": [
    "from tqdm import tqdm\n",
    "\n",
    "synonym_list, dictionaries = torch.load('/tmp/synonym_list')\n",
    "names = sorted(dictionaries['ncbi-disease'].values())\n",
    "\n",
    "inputs = tokenizer(['[MASK] is identical with '+n for n in names], max_length=10, padding='max_length', return_tensors='pt', truncation=True)\n",
    "dataset = TensorDataset(inputs.input_ids, inputs.attention_mask, torch.arange(len(inputs.input_ids)))\n",
    "dataloader = DataLoader(dataset, batch_size=16)\n",
    "\n",
    "@torch.no_grad()\n",
    "def get_name_emb():\n",
    "    bert_lm.eval()\n",
    "    cls_token = []\n",
    "    for batch in dataloader:\n",
    "        input_ids, attention_mask, labels = (i.to('cuda:5') for i in batch)\n",
    "        last_hidden_state = bert_lm.bert(input_ids, attention_mask).last_hidden_state\n",
    "        cls_token.append(last_hidden_state[:, 0].clone().detach())\n",
    "    cls_token = torch.cat(cls_token, dim=0)\n",
    "    return cls_token\n",
    "\n",
    "\n",
    "mention2id = {v:i for i, v in enumerate(names)}\n",
    "\n",
    "ent_syn_pairs = []\n",
    "\n",
    "\n",
    "for cui in synonym_list['ncbi-disease']:\n",
    "    if cui not in dictionaries['ncbi-disease']:\n",
    "        continue\n",
    "    ent = mention2id[dictionaries['ncbi-disease'][cui]]\n",
    "    for syn in synonym_list['ncbi-disease'][cui]:\n",
    "        ent_syn_pairs.append((ent, syn))\n",
    "\n",
    "inputs = tokenizer(['[MASK] is identical with ' + syn for ent, syn in ent_syn_pairs], max_length=10, padding='max_length', return_tensors='pt', truncation=True)\n",
    "testdataset = TensorDataset(inputs.input_ids, inputs.attention_mask, torch.LongTensor([ent for ent, syn in ent_syn_pairs]))\n",
    "testdataloader = DataLoader(testdataset, batch_size=16)\n",
    "\n",
    "def test(name_emb):\n",
    "    scores = []\n",
    "    labels = []\n",
    "    with torch.no_grad():\n",
    "        bert_lm.eval()\n",
    "        for batch in testdataloader:\n",
    "            input_ids, attention_mask, label = (i.to('cuda:5') for i in batch)\n",
    "            cls_output = bert_lm.bert(input_ids, attention_mask).last_hidden_state[:, 1]\n",
    "            score = cls_output.matmul(name_emb.T)\n",
    "            scores.append(score)\n",
    "            labels.append(label)\n",
    "    scores = torch.cat(scores, dim=0)\n",
    "    labels = torch.cat(labels, dim=0)\n",
    "\n",
    "    acc1 = (scores.topk(1, dim=1)[1] == labels.unsqueeze(1)).any(dim=1).float().mean()\n",
    "    acc10 = (scores.topk(10, dim=1)[1] == labels.unsqueeze(1)).any(dim=1).float().mean()\n",
    "\n",
    "    return acc1, acc10, scores, labels\n",
    "\n",
    "def train(names, epochs, lr):\n",
    "    optimizer = torch.optim.Adam(bert_lm.parameters(), lr=lr)\n",
    "    crit = torch.nn.CrossEntropyLoss(reduction='mean')\n",
    "    for epoch in range(epochs):\n",
    "        name_emb = get_name_emb()\n",
    "\n",
    "        acc1, acc10, _, _ = test(name_emb)\n",
    "\n",
    "        print('acc1, acc10', acc1, acc10)\n",
    "        pbar = tqdm(dataloader)\n",
    "        for batch in pbar:\n",
    "            bert_lm.train()    \n",
    "            optimizer.zero_grad()\n",
    "            input_ids, attention_mask, labels = (i.to('cuda:5') for i in batch)\n",
    "            last_hidden_state = bert_lm.bert(input_ids, attention_mask).last_hidden_state\n",
    "            cls_token = last_hidden_state[:, 1]\n",
    "            sim = cls_token.matmul(name_emb.T)\n",
    "            loss = crit(sim, labels)\n",
    "            loss.backward()\n",
    "            optimizer.step()\n",
    "            pbar.set_postfix_str('%.2e'%(loss))\n",
    "\n",
    "        "
   ],
   "outputs": [],
   "metadata": {}
  },
  {
   "cell_type": "code",
   "execution_count": null,
   "source": [
    "\n",
    "train(names, epochs=20, lr=1e-5)"
   ],
   "outputs": [
    {
     "output_type": "stream",
     "name": "stderr",
     "text": [
      "  0%|          | 2/770 [00:00<00:47, 16.32it/s, 9.42e+00]"
     ]
    },
    {
     "output_type": "stream",
     "name": "stdout",
     "text": [
      "acc1, acc10 tensor(0., device='cuda:5') tensor(0., device='cuda:5')\n"
     ]
    },
    {
     "output_type": "stream",
     "name": "stderr",
     "text": [
      "100%|██████████| 770/770 [00:45<00:00, 17.06it/s, 9.42e+00]\n",
      "  0%|          | 2/770 [00:00<00:45, 16.89it/s, 9.42e+00]"
     ]
    },
    {
     "output_type": "stream",
     "name": "stdout",
     "text": [
      "acc1, acc10 tensor(0., device='cuda:5') tensor(0.0023, device='cuda:5')\n"
     ]
    },
    {
     "output_type": "stream",
     "name": "stderr",
     "text": [
      "100%|██████████| 770/770 [00:46<00:00, 16.44it/s, 9.42e+00]\n",
      "  0%|          | 2/770 [00:00<00:39, 19.47it/s, 9.42e+00]"
     ]
    },
    {
     "output_type": "stream",
     "name": "stdout",
     "text": [
      "acc1, acc10 tensor(0., device='cuda:5') tensor(0.0023, device='cuda:5')\n"
     ]
    },
    {
     "output_type": "stream",
     "name": "stderr",
     "text": [
      "100%|██████████| 770/770 [00:47<00:00, 16.17it/s, 9.42e+00]\n",
      "  0%|          | 2/770 [00:00<00:46, 16.56it/s, 9.42e+00]"
     ]
    },
    {
     "output_type": "stream",
     "name": "stdout",
     "text": [
      "acc1, acc10 tensor(0., device='cuda:5') tensor(0., device='cuda:5')\n"
     ]
    },
    {
     "output_type": "stream",
     "name": "stderr",
     "text": [
      "  8%|▊         | 62/770 [00:03<00:44, 15.91it/s, 9.42e+00]"
     ]
    }
   ],
   "metadata": {}
  },
  {
   "cell_type": "code",
   "execution_count": null,
   "source": [],
   "outputs": [],
   "metadata": {}
  },
  {
   "cell_type": "code",
   "execution_count": null,
   "source": [],
   "outputs": [],
   "metadata": {}
  },
  {
   "cell_type": "code",
   "execution_count": null,
   "source": [],
   "outputs": [],
   "metadata": {}
  },
  {
   "cell_type": "code",
   "execution_count": null,
   "source": [],
   "outputs": [],
   "metadata": {}
  },
  {
   "cell_type": "code",
   "execution_count": null,
   "source": [],
   "outputs": [],
   "metadata": {}
  },
  {
   "cell_type": "code",
   "execution_count": 10,
   "source": [
    "\n",
    "train(names, epochs=20, lr=1e-4)"
   ],
   "outputs": [
    {
     "output_type": "stream",
     "name": "stderr",
     "text": [
      "  0%|          | 1/770 [00:00<01:22,  9.36it/s, 9.50e+00]"
     ]
    },
    {
     "output_type": "stream",
     "name": "stdout",
     "text": [
      "acc1, acc10 tensor(0.0199, device='cuda:5') tensor(0.0736, device='cuda:5')\n"
     ]
    },
    {
     "output_type": "stream",
     "name": "stderr",
     "text": [
      "100%|██████████| 770/770 [00:53<00:00, 14.49it/s, 1.61e-02]\n",
      "  0%|          | 2/770 [00:00<00:46, 16.61it/s, 0.00e+00]"
     ]
    },
    {
     "output_type": "stream",
     "name": "stdout",
     "text": [
      "acc1, acc10 tensor(0.1799, device='cuda:5') tensor(0.3575, device='cuda:5')\n"
     ]
    },
    {
     "output_type": "stream",
     "name": "stderr",
     "text": [
      "100%|██████████| 770/770 [00:49<00:00, 15.48it/s, 6.64e-01]\n",
      "  0%|          | 2/770 [00:00<00:47, 16.21it/s, 1.19e-07]"
     ]
    },
    {
     "output_type": "stream",
     "name": "stdout",
     "text": [
      "acc1, acc10 tensor(0.1741, device='cuda:5') tensor(0.3341, device='cuda:5')\n"
     ]
    },
    {
     "output_type": "stream",
     "name": "stderr",
     "text": [
      "100%|██████████| 770/770 [00:50<00:00, 15.37it/s, 1.37e-06]\n",
      "  0%|          | 2/770 [00:00<00:46, 16.42it/s, 6.79e-05]"
     ]
    },
    {
     "output_type": "stream",
     "name": "stdout",
     "text": [
      "acc1, acc10 tensor(0.1647, device='cuda:5') tensor(0.3259, device='cuda:5')\n"
     ]
    },
    {
     "output_type": "stream",
     "name": "stderr",
     "text": [
      "100%|██████████| 770/770 [00:48<00:00, 15.93it/s, 5.96e-08]\n",
      "  0%|          | 2/770 [00:00<00:47, 16.20it/s, 1.28e-04]"
     ]
    },
    {
     "output_type": "stream",
     "name": "stdout",
     "text": [
      "acc1, acc10 tensor(0.1659, device='cuda:5') tensor(0.3306, device='cuda:5')\n"
     ]
    },
    {
     "output_type": "stream",
     "name": "stderr",
     "text": [
      "100%|██████████| 770/770 [00:48<00:00, 15.74it/s, 1.72e-06]\n",
      "  0%|          | 2/770 [00:00<00:45, 16.93it/s, 5.20e-05]"
     ]
    },
    {
     "output_type": "stream",
     "name": "stdout",
     "text": [
      "acc1, acc10 tensor(0.1600, device='cuda:5') tensor(0.3143, device='cuda:5')\n"
     ]
    },
    {
     "output_type": "stream",
     "name": "stderr",
     "text": [
      "100%|██████████| 770/770 [00:51<00:00, 14.96it/s, 8.10e-04]\n",
      "  0%|          | 2/770 [00:00<00:47, 16.32it/s, 4.95e-04]"
     ]
    },
    {
     "output_type": "stream",
     "name": "stdout",
     "text": [
      "acc1, acc10 tensor(0.1636, device='cuda:5') tensor(0.3131, device='cuda:5')\n"
     ]
    },
    {
     "output_type": "stream",
     "name": "stderr",
     "text": [
      "100%|██████████| 770/770 [00:49<00:00, 15.50it/s, 1.27e-04]\n",
      "  0%|          | 2/770 [00:00<00:46, 16.37it/s, 2.84e-06]"
     ]
    },
    {
     "output_type": "stream",
     "name": "stdout",
     "text": [
      "acc1, acc10 tensor(0.1530, device='cuda:5') tensor(0.3061, device='cuda:5')\n"
     ]
    },
    {
     "output_type": "stream",
     "name": "stderr",
     "text": [
      " 10%|▉         | 74/770 [00:04<00:45, 15.42it/s, 5.35e-03]"
     ]
    }
   ],
   "metadata": {}
  },
  {
   "cell_type": "code",
   "execution_count": 7,
   "source": [],
   "outputs": [],
   "metadata": {}
  },
  {
   "cell_type": "code",
   "execution_count": 6,
   "source": [],
   "outputs": [
    {
     "output_type": "execute_result",
     "data": {
      "text/plain": [
       "<All keys matched successfully>"
      ]
     },
     "metadata": {},
     "execution_count": 6
    }
   ],
   "metadata": {}
  },
  {
   "cell_type": "code",
   "execution_count": 18,
   "source": [],
   "outputs": [],
   "metadata": {}
  },
  {
   "cell_type": "code",
   "execution_count": 27,
   "source": [],
   "outputs": [],
   "metadata": {}
  },
  {
   "cell_type": "code",
   "execution_count": 40,
   "source": [],
   "outputs": [],
   "metadata": {}
  },
  {
   "cell_type": "code",
   "execution_count": 41,
   "source": [],
   "outputs": [
    {
     "output_type": "execute_result",
     "data": {
      "text/plain": [
       "(tensor(0.1764, device='cuda:5'), tensor(0.3692, device='cuda:5'))"
      ]
     },
     "metadata": {},
     "execution_count": 41
    }
   ],
   "metadata": {}
  },
  {
   "cell_type": "code",
   "execution_count": null,
   "source": [],
   "outputs": [],
   "metadata": {}
  }
 ],
 "metadata": {
  "orig_nbformat": 4,
  "language_info": {
   "name": "python",
   "version": "3.8.8",
   "mimetype": "text/x-python",
   "codemirror_mode": {
    "name": "ipython",
    "version": 3
   },
   "pygments_lexer": "ipython3",
   "nbconvert_exporter": "python",
   "file_extension": ".py"
  },
  "kernelspec": {
   "name": "python3",
   "display_name": "Python 3.8.8 64-bit ('rwre': conda)"
  },
  "interpreter": {
   "hash": "472763105dfca07e39c0abbfe297659046d81ad244514782c862de3c564a6a12"
  }
 },
 "nbformat": 4,
 "nbformat_minor": 2
}