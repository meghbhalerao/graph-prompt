{
 "cells": [
  {
   "cell_type": "code",
   "execution_count": 1,
   "source": [
    "import torch\n",
    "import matplotlib.pyplot as plt"
   ],
   "outputs": [],
   "metadata": {}
  },
  {
   "cell_type": "code",
   "execution_count": 2,
   "source": [
    "from transformers import BertTokenizer, get_linear_schedule_with_warmup, BertConfig, BertForMaskedLM\n",
    "model_path = 'dmis-lab/biobert-base-cased-v1.2'\n",
    "tokenizer = BertTokenizer.from_pretrained(model_path)\n",
    "bert_lm = BertForMaskedLM.from_pretrained(model_path)"
   ],
   "outputs": [],
   "metadata": {}
  },
  {
   "cell_type": "code",
   "execution_count": null,
   "source": [
    "exp_path = '../exp/0mp_unseen_path2/'"
   ],
   "outputs": [],
   "metadata": {}
  },
  {
   "cell_type": "code",
   "execution_count": null,
   "source": [
    "pack = torch.load(exp_path+'pack.bin')\n",
    "name_array = torch.load(exp_path+'name.bin')\n",
    "ent_total = len(name_array)\n",
    "triples = torch.load(exp_path+'triples.bin')"
   ],
   "outputs": [],
   "metadata": {}
  },
  {
   "cell_type": "code",
   "execution_count": null,
   "source": [
    "def get_nei(triples, max_length, ent_total):\n",
    "    from collections import defaultdict\n",
    "    import copy\n",
    "    neis = [{} for i in range(max_length+1)] # neis[i] stores i-hop neighbors\n",
    "    \n",
    "    neis[0] = {e:{e} for e in range(ent_total)}\n",
    "\n",
    "    for i in range(ent_total):\n",
    "        neis[1][i] = set()\n",
    "    for h, r, t in triples:\n",
    "        neis[1][h].add(t)\n",
    "        neis[1][t].add(h)\n",
    "    \n",
    "    for length in range(2, max_length+1):\n",
    "        nei_1 = neis[1]\n",
    "        nei_last = neis[length-1]\n",
    "        nei = neis[length]\n",
    "        for center in range(ent_total):\n",
    "            nei[center] = copy.deepcopy(nei_1[center])\n",
    "            for i in nei_1[center]:\n",
    "                nei[center] = nei[center].union(nei_last[i])\n",
    "    for i in range(5):\n",
    "        for j in range(i+1, 6):\n",
    "            for e in range(ent_total):\n",
    "                neis[-i-1][e] -= neis[-j-1][e]\n",
    "\n",
    "    return neis\n",
    "neis = get_nei(triples, 5, ent_total)"
   ],
   "outputs": [],
   "metadata": {}
  },
  {
   "cell_type": "code",
   "execution_count": null,
   "source": [
    "labels = pack['labels'][:, 0]\n",
    "N = len(labels)\n",
    "\n",
    "results = []\n",
    "for depth in range(6):\n",
    "    result = 0\n",
    "    for i in range(N):\n",
    "        topk = pack['idx'][i][:1].tolist()\n",
    "        result += len(neis[depth][int(labels[i])].intersection(topk)) / 1 # top 1\n",
    "    result /= N\n",
    "    print(f'{depth}-hop neighbor in top{1} = {result}')\n",
    "    results.append(result)\n",
    "\n",
    "print('sum = ', sum(results))"
   ],
   "outputs": [
    {
     "output_type": "stream",
     "name": "stdout",
     "text": [
      "0-hop neighbor in top1 = 0.8976798143851508\n",
      "1-hop neighbor in top1 = 0.018329466357308585\n",
      "2-hop neighbor in top1 = 0.02157772621809745\n",
      "3-hop neighbor in top1 = 0.00580046403712297\n",
      "4-hop neighbor in top1 = 0.010904872389791183\n",
      "5-hop neighbor in top1 = 0.0034802784222737818\n",
      "sum =  0.9577726218097448\n"
     ]
    }
   ],
   "metadata": {}
  },
  {
   "cell_type": "code",
   "execution_count": null,
   "source": [
    "from collections import defaultdict\n",
    "child2parent = defaultdict(set)\n",
    "for h, r, t in triples:\n",
    "    if r == 'is_a':\n",
    "        child2parent[h].add(t)\n",
    "\n",
    "E = len(name_array)\n",
    "siblings = set()\n",
    "for a in range(E):\n",
    " for c in range(a+1, E):\n",
    "  if len(child2parent[a].intersection(child2parent[c])) > 0:\n",
    "   siblings.add((a,c))\n",
    "   siblings.add((c,a))\n",
    "\n",
    "grandpas = set()\n",
    "grandsons = set()\n",
    "for aa in range(E):\n",
    " for b in child2parent[aa]:\n",
    "  for c in child2parent[b]:\n",
    "   grandpas.add((aa,c))\n",
    "   grandsons.add((c,aa))"
   ],
   "outputs": [],
   "metadata": {}
  },
  {
   "cell_type": "code",
   "execution_count": null,
   "source": [
    "results = []\n",
    "depth = 2\n",
    "\n",
    "results = {'grandpa':0, 'grandson':0, 'sibling':0, 'other':0}\n",
    "cnt = 0\n",
    "\n",
    "for i in range(N):\n",
    "    top1 = int(pack['idx'][i][0])\n",
    "    if top1 in neis[depth][int(labels[i])]:\n",
    "        cnt += 1\n",
    "        if (int(labels[i]), top1) in grandpas:\n",
    "            results['grandpa'] += 1\n",
    "        elif (int(labels[i]), top1) in grandsons:\n",
    "            results['grandson'] += 1\n",
    "        elif (int(labels[i]), top1) in siblings:\n",
    "            results['sibling'] += 1\n",
    "        else:\n",
    "            results['other'] += 1\n",
    "            print(i, int(labels[i]), top1)\n",
    "result = {k:v/cnt for k, v in results.items()}\n",
    "print(f'{depth}-hop: pred is label\\'s {result}')"
   ],
   "outputs": [
    {
     "output_type": "stream",
     "name": "stdout",
     "text": [
      "2-hop: pred is label's {'grandpa': 0.012944983818770227, 'grandson': 0.006472491909385114, 'sibling': 0.9805825242718447, 'other': 0.0}\n"
     ]
    }
   ],
   "metadata": {}
  },
  {
   "cell_type": "code",
   "execution_count": null,
   "source": [],
   "outputs": [],
   "metadata": {}
  },
  {
   "cell_type": "code",
   "execution_count": null,
   "source": [],
   "outputs": [],
   "metadata": {}
  }
 ],
 "metadata": {
  "orig_nbformat": 4,
  "language_info": {
   "name": "python",
   "version": "3.8.8",
   "mimetype": "text/x-python",
   "codemirror_mode": {
    "name": "ipython",
    "version": 3
   },
   "pygments_lexer": "ipython3",
   "nbconvert_exporter": "python",
   "file_extension": ".py"
  },
  "kernelspec": {
   "name": "python3",
   "display_name": "Python 3.8.8 64-bit ('rwre': conda)"
  },
  "interpreter": {
   "hash": "472763105dfca07e39c0abbfe297659046d81ad244514782c862de3c564a6a12"
  }
 },
 "nbformat": 4,
 "nbformat_minor": 2
}